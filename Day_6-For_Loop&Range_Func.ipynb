{
 "cells": [
  {
   "cell_type": "code",
   "execution_count": 2,
   "metadata": {},
   "outputs": [
    {
     "name": "stdout",
     "output_type": "stream",
     "text": [
      "['venu', 'narasimha', 'hari', 'anu', 'naga']\n"
     ]
    }
   ],
   "source": [
    "students=['venu','narasimha','hari','anu','naga']\n",
    "print(students)"
   ]
  },
  {
   "cell_type": "code",
   "execution_count": 4,
   "metadata": {},
   "outputs": [
    {
     "name": "stdout",
     "output_type": "stream",
     "text": [
      "venu\n",
      "narasimha\n",
      "hari\n",
      "anu\n",
      "naga\n"
     ]
    }
   ],
   "source": [
    "for student in students:\n",
    "    print(student)"
   ]
  },
  {
   "cell_type": "code",
   "execution_count": 8,
   "metadata": {},
   "outputs": [
    {
     "name": "stdout",
     "output_type": "stream",
     "text": [
      "Venu, you did a good job\n",
      "Narasimha, you did a good job\n",
      "Hari, you did a good job\n",
      "Anu, you did a good job\n",
      "Naga, you did a good job\n"
     ]
    }
   ],
   "source": [
    "for student in students:\n",
    "    print(f\"{student.title()}, you did a good job\")"
   ]
  },
  {
   "cell_type": "code",
   "execution_count": 14,
   "metadata": {},
   "outputs": [
    {
     "name": "stdout",
     "output_type": "stream",
     "text": [
      "Venu, you did a good job\n",
      "Narasimha, you did a good job\n",
      "Hari, you did a good job\n",
      "Anu, you did a good job\n",
      "Naga, you did a good job\n",
      "\n",
      " Thanks all - Narasimha\n"
     ]
    }
   ],
   "source": [
    "for student in students:\n",
    "    print(f\"{student.title()}, you did a good job\")\n",
    "\n",
    "print(\"\\n Thanks all - Narasimha\")"
   ]
  },
  {
   "cell_type": "code",
   "execution_count": 20,
   "metadata": {},
   "outputs": [
    {
     "name": "stdout",
     "output_type": "stream",
     "text": [
      "1\n",
      "2\n",
      "3\n",
      "4\n",
      "5\n",
      "6\n"
     ]
    }
   ],
   "source": [
    "#Range function\n",
    "for value in range(1,7): #Last number will be excluded in the range function\n",
    "    print(value)"
   ]
  },
  {
   "cell_type": "code",
   "execution_count": 21,
   "metadata": {},
   "outputs": [
    {
     "name": "stdout",
     "output_type": "stream",
     "text": [
      "[1, 2, 3, 4, 5]\n"
     ]
    }
   ],
   "source": [
    "# Creating a list using Range function\n",
    "numbers=list(range(1,6))\n",
    "print(numbers)"
   ]
  },
  {
   "cell_type": "code",
   "execution_count": 23,
   "metadata": {},
   "outputs": [
    {
     "name": "stdout",
     "output_type": "stream",
     "text": [
      "[2, 4, 6, 8]\n"
     ]
    }
   ],
   "source": [
    "#print even numbers\n",
    "#range(start value,stop value,step count)\n",
    "even_numbers=list(range(2,10,2))\n",
    "print(even_numbers)"
   ]
  },
  {
   "cell_type": "code",
   "execution_count": 25,
   "metadata": {},
   "outputs": [
    {
     "name": "stdout",
     "output_type": "stream",
     "text": [
      "[3, 5, 7, 9]\n"
     ]
    }
   ],
   "source": [
    "#print odd numbers\n",
    "odd_numbers=list(range(3,10,2))\n",
    "print(odd_numbers)"
   ]
  },
  {
   "cell_type": "code",
   "execution_count": 26,
   "metadata": {},
   "outputs": [
    {
     "name": "stdout",
     "output_type": "stream",
     "text": [
      "2\n",
      "4\n",
      "6\n",
      "8\n"
     ]
    }
   ],
   "source": [
    "for evenNumber in range(2,10,2):\n",
    "    print(evenNumber)"
   ]
  },
  {
   "cell_type": "code",
   "execution_count": 27,
   "metadata": {},
   "outputs": [
    {
     "name": "stdout",
     "output_type": "stream",
     "text": [
      "3\n",
      "5\n",
      "7\n",
      "9\n"
     ]
    }
   ],
   "source": [
    "for oddNumber in range(3,10,2):\n",
    "    print(oddNumber)"
   ]
  },
  {
   "cell_type": "code",
   "execution_count": 31,
   "metadata": {},
   "outputs": [
    {
     "ename": "SyntaxError",
     "evalue": "invalid syntax (<ipython-input-31-a38c007a9834>, line 2)",
     "output_type": "error",
     "traceback": [
      "\u001b[1;36m  File \u001b[1;32m\"<ipython-input-31-a38c007a9834>\"\u001b[1;36m, line \u001b[1;32m2\u001b[0m\n\u001b[1;33m    print(min(numbers),\"\\n\" max(numbers))\u001b[0m\n\u001b[1;37m                              ^\u001b[0m\n\u001b[1;31mSyntaxError\u001b[0m\u001b[1;31m:\u001b[0m invalid syntax\n"
     ]
    }
   ],
   "source": [
    "numbers=list(range(1,51))\n",
    "print(min(numbers),\"\\n\" max(numbers))"
   ]
  },
  {
   "cell_type": "code",
   "execution_count": 36,
   "metadata": {},
   "outputs": [
    {
     "name": "stdout",
     "output_type": "stream",
     "text": [
      "1\n",
      "50\n",
      "1275\n"
     ]
    }
   ],
   "source": [
    "print(f\"{min(numbers)}\\n{max(numbers)}\\n{sum(numbers)}\")"
   ]
  },
  {
   "cell_type": "code",
   "execution_count": null,
   "metadata": {},
   "outputs": [],
   "source": []
  }
 ],
 "metadata": {
  "kernelspec": {
   "display_name": "Python 3",
   "language": "python",
   "name": "python3"
  },
  "language_info": {
   "codemirror_mode": {
    "name": "ipython",
    "version": 3
   },
   "file_extension": ".py",
   "mimetype": "text/x-python",
   "name": "python",
   "nbconvert_exporter": "python",
   "pygments_lexer": "ipython3",
   "version": "3.7.4"
  }
 },
 "nbformat": 4,
 "nbformat_minor": 2
}
